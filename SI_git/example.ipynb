{
 "cells": [
  {
   "cell_type": "code",
   "execution_count": 1,
   "id": "0f382112",
   "metadata": {},
   "outputs": [],
   "source": [
    "import numpy as np\n",
    "import pandas as pd\n",
    "import pickle\n",
    "import warnings;warnings.simplefilter('ignore')"
   ]
  },
  {
   "cell_type": "code",
   "execution_count": null,
   "id": "20878a9c",
   "metadata": {},
   "outputs": [],
   "source": [
    "################################################ Load Data ######################################################\n",
    "df = pd.read_excel('INPUTS.xlsx',index_col=0)\n",
    "df"
   ]
  },
  {
   "cell_type": "markdown",
   "id": "c86158a5",
   "metadata": {},
   "source": [
    "# Classification"
   ]
  },
  {
   "cell_type": "code",
   "execution_count": null,
   "id": "27bc9084",
   "metadata": {},
   "outputs": [],
   "source": [
    "################################################ prepare data ######################################################\n",
    "drop_cols = ['molecule', 'MOF', 'Chi0', 'Kappa1', 'NumValenceElectrons',\n",
    "       'p2', 'p3', 'p4', 'p5', 'p6', 'p7', 'p8', 'p9', 'p10', 'p11', 'p12', 'p13', 'p14', 'p15', 'p16', 'p17', 'p18', 'p19', 'p20',\n",
    "       'v2', 'v3', 'v4', 'v5', 'v6', 'v7', 'v8', 'v9', 'v10', 'v11', 'v12', 'v13', 'v14', 'v15', 'v16', 'v17', 'v18', 'v19', 'v20',\n",
    "       'm2', 'm3', 'm4', 'm5', 'm6', 'm7', 'm8', 'm9', 'm10', 'm11', 'm12', 'm13', 'm14', 'm15', 'm16', 'm17', 'm18', 'm19', 'm20']\n",
    "x_clf = df.drop(columns=drop_cols).values\n",
    "print('X matrix dimensions: {}'.format(x_clf.shape))\n",
    "\n",
    "\n",
    "############################################## load classification model ######################################################\n",
    "pickled_classifier = pickle.load(open('trained_classification_model_knn.pkl', 'rb'))\n",
    "scaler_c = pickle.load(open('scaler_c.pkl','rb'))\n",
    "lda = pickle.load(open('lda.pkl','rb'))\n",
    "\n",
    "\n",
    "################################################### classify ########################################################\n",
    "x_clf_scaled = scaler_c.transform(x_clf)\n",
    "x_clf_lda = lda.transform(x_clf_scaled)\n",
    "y_clf = pickled_classifier.predict(x_clf_lda)\n",
    "df.insert(loc=0, column='IFF', value=y_clf)\n",
    "df[['IFF', 'molecule', 'MOF']]"
   ]
  },
  {
   "cell_type": "markdown",
   "id": "e6a0e3f8",
   "metadata": {},
   "source": [
    "# Prediction"
   ]
  },
  {
   "cell_type": "code",
   "execution_count": null,
   "id": "10d693b8",
   "metadata": {},
   "outputs": [],
   "source": [
    "############################################### prepare data ######################################################\n",
    "negligibles = df.index[np.where(df.IFF == 0)]\n",
    "df0 = df.loc[negligibles]\n",
    "drop_cols = ['molecule', 'MOF','IFF'] \n",
    "x_pred = df0.drop(columns=drop_cols).values\n",
    "print('X matrix dimensions: {}'.format(x_pred.shape))\n",
    "\n",
    "############################################## load regression model ######################################################\n",
    "pickled_regresser = pickle.load(open('trained_regression_model_gbr.pkl', 'rb'))\n",
    "scaler_r = pickle.load(open('scaler_r.pkl','rb'))\n",
    "\n",
    "\n",
    "################################################### classify ########################################################\n",
    "x_pred_scaled = scaler_r.transform(x_pred)\n",
    "y_pred = pickled_regresser.predict(x_pred_scaled)\n",
    "df_Ds = df0\n",
    "df_Ds.insert(loc=1, column='Ds', value=10**y_pred)\n",
    "df_Ds[['IFF', 'molecule', 'MOF', 'Ds']]"
   ]
  }
 ],
 "metadata": {
  "kernelspec": {
   "display_name": "Python 3 (ipykernel)",
   "language": "python",
   "name": "python3"
  },
  "language_info": {
   "codemirror_mode": {
    "name": "ipython",
    "version": 3
   },
   "file_extension": ".py",
   "mimetype": "text/x-python",
   "name": "python",
   "nbconvert_exporter": "python",
   "pygments_lexer": "ipython3",
   "version": "3.10.6"
  }
 },
 "nbformat": 4,
 "nbformat_minor": 5
}
